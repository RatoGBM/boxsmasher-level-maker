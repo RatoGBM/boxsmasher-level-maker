{
 "cells": [
  {
   "cell_type": "code",
   "execution_count": 18,
   "metadata": {},
   "outputs": [],
   "source": [
    "from PIL import Image"
   ]
  },
  {
   "cell_type": "code",
   "execution_count": 19,
   "metadata": {},
   "outputs": [],
   "source": [
    "def load_image(filename):\n",
    "    i = Image.open(filename)\n",
    "    px = i.load() # this is not a list\n",
    "    width, height = i.size\n",
    "    pixels = [[px[x,y] for x in range(width)] for y in range(height)]\n",
    "    return pixels, width, height"
   ]
  },
  {
   "cell_type": "code",
   "execution_count": 20,
   "metadata": {},
   "outputs": [],
   "source": [
    "def grouping(pixels, width, height):\n",
    "    groups = []\n",
    "    id_map = [[0 for x in range(width)] for y in range(height)]\n",
    "    group_i = 1\n",
    "    def check_row(x,y,w,base) -> bool:\n",
    "        for i in range(w):\n",
    "            if not (id_map[y][x+i]==0 and pixels[y][x+i]==base):\n",
    "                return False\n",
    "        return True\n",
    "    def mark_row(x,y,w,group_i):\n",
    "        for i in range(w):\n",
    "            id_map[y][x+i] = group_i\n",
    "    for x in range(width):\n",
    "        for y in range(height):\n",
    "\n",
    "            if (id_map[y][x]==0 and pixels[y][x][3]!=0):\n",
    "                base = pixels[y][x]\n",
    "                xc = x\n",
    "                yc = y\n",
    "                h = 0\n",
    "                w = 0\n",
    "                # width\n",
    "                while (xc+w<width and pixels[yc][xc+w]==base):\n",
    "                    w+=1\n",
    "\n",
    "                # height\n",
    "                while (yc+h<height and check_row(xc,yc+h,w,base)):\n",
    "                    mark_row(xc,yc+h,w,group_i)\n",
    "                    h+=1\n",
    "\n",
    "                groups.append([xc,yc,w,h,base])\n",
    "    print(\"-- Groups\",len(groups))\n",
    "    return groups"
   ]
  },
  {
   "cell_type": "code",
   "execution_count": 21,
   "metadata": {},
   "outputs": [],
   "source": [
    "def throwBoundaryFormatting(boundary,grid_constant):\n",
    "    return f\"\"\"\n",
    "        x = {grid_constant}*{boundary[0]}, y = {grid_constant}*{boundary[1]},\n",
    "        w = {grid_constant}*{boundary[2]}, h = {grid_constant}*{boundary[3]},\"\"\"\n",
    "def clustersFormatting(clusters,grid_constant):\n",
    "    return \",\".join([clusterFormatting(cluster,grid_constant) for cluster in clusters])\n",
    "def clusterFormatting(cluster,grid_constant):\n",
    "    return f\"\"\"\n",
    "    \\t{{\n",
    "    \\t    x = {grid_constant}*{cluster[0]}, y = {grid_constant}*{cluster[1]},\n",
    "    \\t    w = {grid_constant}, h = {grid_constant},\n",
    "    \\t    aX = {cluster[2]}, aY = {cluster[3]},\n",
    "    \\t    {cluster[5]}\n",
    "    \\t}}\"\"\"\n",
    "def terrainsFormatting(clusters,grid_constant):\n",
    "    return \",\".join([terrainFormatting(cluster,grid_constant) for cluster in clusters])\n",
    "def terrainFormatting(cluster,grid_constant):\n",
    "    return f\"\"\"\n",
    "    \\t{{\n",
    "    \\t    x = {grid_constant}*{cluster[0]}, y = {grid_constant}*{cluster[1]},\n",
    "    \\t    w = {grid_constant}*{cluster[2]}, h = {grid_constant}*{cluster[3]},\n",
    "    \\t    {cluster[5]}\n",
    "    \\t}}\"\"\""
   ]
  },
  {
   "cell_type": "markdown",
   "metadata": {},
   "source": [
    "# Formatting"
   ]
  },
  {
   "cell_type": "code",
   "execution_count": 22,
   "metadata": {},
   "outputs": [],
   "source": [
    "def main():\n",
    "    input_file = 'level.png'\n",
    "    output_file = '25.lua'\n",
    "\n",
    "    author = \"me\"\n",
    "    totalBalls = 2\n",
    "    grid_constant = 40 # don't change\n",
    "    # grid size is 1280/40 = 32 x 720/40=18 pixels (conf.lua)\n",
    "    color_designations = [\n",
    "        [(255,0,0,255),'boxclusters',''],\n",
    "        [(0,255,0,255),'throwBoundary',''],\n",
    "        [(0,0,255,255),'terrain','']\n",
    "    ]\n",
    "\n",
    "    return build(input_file,output_file,author,totalBalls,grid_constant,color_designations)\n",
    "\n",
    "def build(input_file,output_file,author,totalBalls,grid_constant,color_designations):\n",
    "    pixels, width, height = load_image(input_file)\n",
    "    groups = grouping(pixels, width, height)\n",
    "    \n",
    "    boundaries = {\n",
    "        'boxclusters' : [],\n",
    "        'throwBoundary' : [],\n",
    "        'terrain' : []\n",
    "    }\n",
    "\n",
    "    for group in groups:\n",
    "        for c in color_designations:\n",
    "            if c[0]==group[4]:\n",
    "                group.append(c[2])\n",
    "                boundaries[c[1]].append(group)\n",
    "    \n",
    "    level = f\"\"\"return {{\n",
    "    author = \"{author}\",\n",
    "    totalBalls = {totalBalls},\n",
    "    throwBoundary = {{{throwBoundaryFormatting(boundaries['throwBoundary'][0],grid_constant)}\n",
    "    }},\n",
    "    boxclusters = {{{clustersFormatting(boundaries['boxclusters'],grid_constant)}\n",
    "    }},\n",
    "    terrain = {{{terrainsFormatting(boundaries['terrain'],grid_constant)}\n",
    "    }},\n",
    "}}\n",
    "\"\"\"\n",
    "    return level"
   ]
  },
  {
   "cell_type": "code",
   "execution_count": 25,
   "metadata": {},
   "outputs": [
    {
     "name": "stdout",
     "output_type": "stream",
     "text": [
      "-- Groups 6\n",
      "return {\n",
      "    author = \"me\",\n",
      "    totalBalls = 2,\n",
      "    throwBoundary = {\n",
      "        x = 40*2, y = 40*2,\n",
      "        w = 40*4, h = 40*9,\n",
      "    },\n",
      "    boxclusters = {\n",
      "    \t{\n",
      "    \t    x = 40*10, y = 40*8,\n",
      "    \t    w = 40, h = 40,\n",
      "    \t    aX = 10, aY = 2,\n",
      "    \t    \n",
      "    \t},\n",
      "    \t{\n",
      "    \t    x = 40*12, y = 40*3,\n",
      "    \t    w = 40, h = 40,\n",
      "    \t    aX = 6, aY = 4,\n",
      "    \t    \n",
      "    \t}\n",
      "    },\n",
      "    terrain = {\n",
      "    \t{\n",
      "    \t    x = 40*11, y = 40*10,\n",
      "    \t    w = 40*1, h = 40*5,\n",
      "    \t    \n",
      "    \t},\n",
      "    \t{\n",
      "    \t    x = 40*12, y = 40*14,\n",
      "    \t    w = 40*7, h = 40*1,\n",
      "    \t    \n",
      "    \t},\n",
      "    \t{\n",
      "    \t    x = 40*18, y = 40*10,\n",
      "    \t    w = 40*1, h = 40*4,\n",
      "    \t    \n",
      "    \t}\n",
      "    },\n",
      "}\n",
      "\n"
     ]
    }
   ],
   "source": [
    "print(main())"
   ]
  },
  {
   "cell_type": "code",
   "execution_count": null,
   "metadata": {},
   "outputs": [],
   "source": []
  }
 ],
 "metadata": {
  "kernelspec": {
   "display_name": "base",
   "language": "python",
   "name": "python3"
  },
  "language_info": {
   "codemirror_mode": {
    "name": "ipython",
    "version": 3
   },
   "file_extension": ".py",
   "mimetype": "text/x-python",
   "name": "python",
   "nbconvert_exporter": "python",
   "pygments_lexer": "ipython3",
   "version": "3.12.2"
  }
 },
 "nbformat": 4,
 "nbformat_minor": 2
}
